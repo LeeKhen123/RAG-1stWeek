{
 "cells": [
  {
   "cell_type": "code",
   "execution_count": 10,
   "metadata": {},
   "outputs": [],
   "source": [
    "# dotenv, os를 import 하여 \n",
    "# .env 파일을 찾아 \"OPENAI_API_KEY\"라는 키를 가져옵니다.\n",
    "from dotenv import load_dotenv\n",
    "import os\n",
    "\n",
    "load_dotenv()\n",
    "\n",
    "OPENAI_API_KEY = os.getenv(\"OPENAI_API_KEY\")"
   ]
  },
  {
   "cell_type": "code",
   "execution_count": 14,
   "metadata": {},
   "outputs": [
    {
     "ename": "OpenAIError",
     "evalue": "The api_key client option must be set either by passing api_key to the client or by setting the OPENAI_API_KEY environment variable",
     "output_type": "error",
     "traceback": [
      "\u001b[1;31m---------------------------------------------------------------------------\u001b[0m",
      "\u001b[1;31mOpenAIError\u001b[0m                               Traceback (most recent call last)",
      "Cell \u001b[1;32mIn[14], line 5\u001b[0m\n\u001b[0;32m      1\u001b[0m \u001b[38;5;66;03m# openai 를 import 하여 OpenAI 키값을 넣어\u001b[39;00m\n\u001b[0;32m      2\u001b[0m \u001b[38;5;66;03m# 클라이언트를 통해 OpenAI API의 기능을 사용\u001b[39;00m\n\u001b[0;32m      3\u001b[0m \u001b[38;5;28;01mfrom\u001b[39;00m \u001b[38;5;21;01mopenai\u001b[39;00m \u001b[38;5;28;01mimport\u001b[39;00m OpenAI\n\u001b[1;32m----> 5\u001b[0m client \u001b[38;5;241m=\u001b[39m \u001b[43mOpenAI\u001b[49m\u001b[43m(\u001b[49m\u001b[43mapi_key\u001b[49m\u001b[38;5;241;43m=\u001b[39;49m\u001b[43mOPENAI_API_KEY\u001b[49m\u001b[43m)\u001b[49m\n\u001b[0;32m      7\u001b[0m \u001b[38;5;66;03m# 임베딩 기능을 호출, 텍스트 임베딩을 생성\u001b[39;00m\n\u001b[0;32m      8\u001b[0m embedding \u001b[38;5;241m=\u001b[39m client\u001b[38;5;241m.\u001b[39membeddings\u001b[38;5;241m.\u001b[39mcreate(\n\u001b[0;32m      9\u001b[0m   \u001b[38;5;66;03m#임베딩을 생성할 텍스트 \"내일 날씨는 어때?\"를 입력\u001b[39;00m\n\u001b[0;32m     10\u001b[0m   \u001b[38;5;28minput\u001b[39m\u001b[38;5;241m=\u001b[39m\u001b[38;5;124m\"\u001b[39m\u001b[38;5;124m내일 날씨는 어때?\u001b[39m\u001b[38;5;124m\"\u001b[39m,\n\u001b[0;32m     11\u001b[0m   \u001b[38;5;66;03m# \"text-embedding-3-small\" embedding api을 사용\u001b[39;00m\n\u001b[0;32m     12\u001b[0m   model\u001b[38;5;241m=\u001b[39m\u001b[38;5;124m\"\u001b[39m\u001b[38;5;124mtext-embedding-3-small\u001b[39m\u001b[38;5;124m\"\u001b[39m\n\u001b[0;32m     13\u001b[0m )\n",
      "File \u001b[1;32mc:\\Users\\user\\Desktop\\RAG-1stWeek\\.venv\\Lib\\site-packages\\openai\\_client.py:105\u001b[0m, in \u001b[0;36mOpenAI.__init__\u001b[1;34m(self, api_key, organization, project, base_url, timeout, max_retries, default_headers, default_query, http_client, _strict_response_validation)\u001b[0m\n\u001b[0;32m    103\u001b[0m     api_key \u001b[38;5;241m=\u001b[39m os\u001b[38;5;241m.\u001b[39menviron\u001b[38;5;241m.\u001b[39mget(\u001b[38;5;124m\"\u001b[39m\u001b[38;5;124mOPENAI_API_KEY\u001b[39m\u001b[38;5;124m\"\u001b[39m)\n\u001b[0;32m    104\u001b[0m \u001b[38;5;28;01mif\u001b[39;00m api_key \u001b[38;5;129;01mis\u001b[39;00m \u001b[38;5;28;01mNone\u001b[39;00m:\n\u001b[1;32m--> 105\u001b[0m     \u001b[38;5;28;01mraise\u001b[39;00m OpenAIError(\n\u001b[0;32m    106\u001b[0m         \u001b[38;5;124m\"\u001b[39m\u001b[38;5;124mThe api_key client option must be set either by passing api_key to the client or by setting the OPENAI_API_KEY environment variable\u001b[39m\u001b[38;5;124m\"\u001b[39m\n\u001b[0;32m    107\u001b[0m     )\n\u001b[0;32m    108\u001b[0m \u001b[38;5;28mself\u001b[39m\u001b[38;5;241m.\u001b[39mapi_key \u001b[38;5;241m=\u001b[39m api_key\n\u001b[0;32m    110\u001b[0m \u001b[38;5;28;01mif\u001b[39;00m organization \u001b[38;5;129;01mis\u001b[39;00m \u001b[38;5;28;01mNone\u001b[39;00m:\n",
      "\u001b[1;31mOpenAIError\u001b[0m: The api_key client option must be set either by passing api_key to the client or by setting the OPENAI_API_KEY environment variable"
     ]
    }
   ],
   "source": [
    "# openai 를 import 하여 OpenAI 키값을 넣어\n",
    "# 클라이언트를 통해 OpenAI API의 기능을 사용\n",
    "from openai import OpenAI\n",
    "\n",
    "client = OpenAI(api_key=OPENAI_API_KEY)\n",
    "\n",
    "# 임베딩 기능을 호출, 텍스트 임베딩을 생성\n",
    "embedding = client.embeddings.create(\n",
    "  #임베딩을 생성할 텍스트 \"내일 날씨는 어때?\"를 입력\n",
    "  input=\"내일 날씨는 어때?\",\n",
    "  # \"text-embedding-3-small\" embedding api을 사용\n",
    "  model=\"text-embedding-3-small\"\n",
    ")\n",
    "# 임베딩 데이터 출력\n",
    "embedding"
   ]
  },
  {
   "cell_type": "code",
   "execution_count": 15,
   "metadata": {},
   "outputs": [
    {
     "ename": "NameError",
     "evalue": "name 'embedding' is not defined",
     "output_type": "error",
     "traceback": [
      "\u001b[1;31m---------------------------------------------------------------------------\u001b[0m",
      "\u001b[1;31mNameError\u001b[0m                                 Traceback (most recent call last)",
      "Cell \u001b[1;32mIn[15], line 2\u001b[0m\n\u001b[0;32m      1\u001b[0m \u001b[38;5;66;03m# \"내일 날씨는 어때?\"라는 문장의 임베딩 벡터 출력\u001b[39;00m\n\u001b[1;32m----> 2\u001b[0m \u001b[43membedding\u001b[49m\u001b[38;5;241m.\u001b[39mdata[\u001b[38;5;241m0\u001b[39m]\u001b[38;5;241m.\u001b[39membedding\n",
      "\u001b[1;31mNameError\u001b[0m: name 'embedding' is not defined"
     ]
    }
   ],
   "source": [
    "# \"내일 날씨는 어때?\"라는 문장의 임베딩 벡터 출력\n",
    "embedding.data[0].embedding"
   ]
  },
  {
   "cell_type": "code",
   "execution_count": null,
   "metadata": {},
   "outputs": [
    {
     "ename": "NameError",
     "evalue": "name 'embedding' is not defined",
     "output_type": "error",
     "traceback": [
      "\u001b[1;31m---------------------------------------------------------------------------\u001b[0m",
      "\u001b[1;31mNameError\u001b[0m                                 Traceback (most recent call last)",
      "Cell \u001b[1;32mIn[16], line 1\u001b[0m\n\u001b[1;32m----> 1\u001b[0m \u001b[43membedding\u001b[49m\u001b[38;5;241m.\u001b[39musage\n",
      "\u001b[1;31mNameError\u001b[0m: name 'embedding' is not defined"
     ]
    }
   ],
   "source": [
    "#임베딩의 토큰 수 출력\n",
    "embedding.usage"
   ]
  },
  {
   "cell_type": "code",
   "execution_count": null,
   "metadata": {},
   "outputs": [
    {
     "ename": "ModuleNotFoundError",
     "evalue": "No module named 'numpy'",
     "output_type": "error",
     "traceback": [
      "\u001b[1;31m---------------------------------------------------------------------------\u001b[0m",
      "\u001b[1;31mModuleNotFoundError\u001b[0m                       Traceback (most recent call last)",
      "Cell \u001b[1;32mIn[17], line 1\u001b[0m\n\u001b[1;32m----> 1\u001b[0m \u001b[38;5;28;01mimport\u001b[39;00m \u001b[38;5;21;01mnumpy\u001b[39;00m \u001b[38;5;28;01mas\u001b[39;00m \u001b[38;5;21;01mnp\u001b[39;00m\n\u001b[0;32m      3\u001b[0m \u001b[38;5;66;03m# 텍스트 임베딩 생성 함수\u001b[39;00m\n\u001b[0;32m      4\u001b[0m \u001b[38;5;28;01mdef\u001b[39;00m \u001b[38;5;21mget_embedding\u001b[39m(text, model\u001b[38;5;241m=\u001b[39m\u001b[38;5;124m\"\u001b[39m\u001b[38;5;124mtext-embedding-3-small\u001b[39m\u001b[38;5;124m\"\u001b[39m):\n",
      "\u001b[1;31mModuleNotFoundError\u001b[0m: No module named 'numpy'"
     ]
    }
   ],
   "source": [
    "import numpy as np\n",
    "\n",
    "# 텍스트 임베딩 생성 함수\n",
    "def get_embedding(text, model=\"text-embedding-3-small\"):\n",
    "  client = OpenAI(api_key=OPENAI_API_KEY)\n",
    "  response = client.embeddings.create(\n",
    "    input=text,\n",
    "    model=model\n",
    "  )\n",
    "  return response.data[0].embedding\n",
    "\n",
    "# 코사인 유사도를 사용하여 두 텍스트를 비교하는 함수\n",
    "def cosine_similarity(a, b):\n",
    "  return np.dot(a, b) / (np.linalg.norm(a) * np.linalg.norm(b))\n",
    "\n",
    "# 비교할 두 텍스트 생성\n",
    "text1 = \"오늘은 날씨가 좋아서 공원에 산책을 갔습니다.\"\n",
    "text2 = \"날씨가 맑아서 야외 활동하기 좋은 날이었습니다.\"\n",
    "\n",
    "# 구 텍스트를 임베딩 합니다/\n",
    "embedding1 = get_embedding(text1)\n",
    "embedding2 = get_embedding(text2)\n",
    "\n",
    "# 두 텍스트를 코사인 유사도를 통해 측정\n",
    "similarity = cosine_similarity(embedding1, embedding2)\n",
    "\n",
    "# 두 텍스트 유유사도 출력\n",
    "print(f\"두 텍스트의 유사도: {similarity}\")"
   ]
  },
  {
   "cell_type": "code",
   "execution_count": null,
   "metadata": {},
   "outputs": [],
   "source": [
    "text1 = \"\"\"(종합) 오늘 낮까지 비 곳, 오늘 강풍과 풍랑 유의, 내일 늦은 오후~저녁 경기동부 소나기, 모레 낮부터 비\n",
    "○ (오늘, 30일) 대체로 흐림, 서울.경기도(경기남서부 제외) 중심 낮(12~15시)까지 비 곳\n",
    "○ (내일, 7월 1일) 구름많음, 대기불안정으로 늦은 오후(15~18시)부터 저녁(18~21시) 사이 경기동부 소나기 곳, 서해5도 대체로 맑다가 저녁부터 구름많아짐\n",
    "○ (모레, 7월 2일) 대체로 흐림, 서울.인천.경기도 낮(12~15시)부터 비, 서해5도(연평도 부근) 늦은 밤(21~24시) 가끔 비 곳\n",
    "* 예상 강수량(30일 낮까지)\n",
    "- 서울.경기도(경기남서부 제외): 5mm 미만\n",
    "* 소나기에 의한 예상 강수량(7월 1일 늦은 오후~저녁)\n",
    "- 경기동부: 5~20mm\n",
    "* 예상 강수량(7월 2일 낮~)\n",
    "- 서울.인천.경기도: 10~50mm\n",
    "- 서해5도(7월 2일 밤): 5~20mm\"\"\"\n",
    "\n",
    "text2 = \"\"\"서울의 주요 관광지 안내:\n",
    "서울은 한국의 수도로서 다양한 문화와 역사를 자랑하는 도시입니다. 다음은 서울에서 꼭 가봐야 할 주요 관광지입니다.\n",
    "\n",
    "경복궁: 조선 시대의 대표적인 궁궐로, 한국 전통 건축의 아름다움을 느낄 수 있습니다.\n",
    "남산타워: 서울의 전경을 한눈에 볼 수 있는 전망대입니다. 케이블카를 타고 올라가면 더욱 즐거운 경험이 됩니다.\n",
    "인사동: 전통 공예품과 예술 작품을 구경할 수 있는 거리로, 다양한 전통 음식점과 카페도 즐길 수 있습니다.\n",
    "홍대: 젊음의 거리로, 다양한 카페, 레스토랑, 그리고 스트리트 공연을 즐길 수 있습니다.\n",
    "강남: 현대적이고 세련된 분위기의 지역으로, 쇼핑과 미식 탐험에 최적의 장소입니다.\n",
    "서울을 여행하기 좋은 시기는 봄과 가을입니다. 날씨가 쾌적하고, 다양한 축제와 이벤트가 열리기 때문입니다. 여행을 계획할 때는 서울의 대중교통 시스템을 잘 활용하면 편리하게 이동할 수 있습니다.\n",
    "\"\"\"\n",
    "\n",
    "question = '내일 날씨는 어때?'"
   ]
  },
  {
   "cell_type": "code",
   "execution_count": null,
   "metadata": {},
   "outputs": [
    {
     "data": {
      "text/plain": [
       "(0.3587650982979104, 0.1861705461745998)"
      ]
     },
     "execution_count": 14,
     "metadata": {},
     "output_type": "execute_result"
    }
   ],
   "source": [
    "#질문, 텍스트1, 텍스트2 임베딩 하여 벡터로 변환\n",
    "embedding_question = get_embedding(question)\n",
    "embedding_text1 = get_embedding(text1)\n",
    "embedding_text2 = get_embedding(text2)\n",
    "\n",
    "#질문과 텍스트들의 벡터 유사도를 측정\n",
    "similarity1 = cosine_similarity(embedding_question, embedding_text1)\n",
    "similarity2 = cosine_similarity(embedding_question, embedding_text2)\n",
    "\n",
    "# 계산 한 값을 출력력\n",
    "similarity1, similarity2 "
   ]
  },
  {
   "cell_type": "code",
   "execution_count": null,
   "metadata": {},
   "outputs": [],
   "source": []
  }
 ],
 "metadata": {
  "kernelspec": {
   "display_name": ".venv",
   "language": "python",
   "name": "python3"
  },
  "language_info": {
   "codemirror_mode": {
    "name": "ipython",
    "version": 3
   },
   "file_extension": ".py",
   "mimetype": "text/x-python",
   "name": "python",
   "nbconvert_exporter": "python",
   "pygments_lexer": "ipython3",
   "version": "3.12.4"
  }
 },
 "nbformat": 4,
 "nbformat_minor": 2
}
